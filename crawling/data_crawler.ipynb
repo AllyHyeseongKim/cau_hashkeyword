{
 "cells": [
  {
   "cell_type": "code",
   "execution_count": 120,
   "metadata": {
    "collapsed": true
   },
   "outputs": [],
   "source": [
    "from bs4 import BeautifulSoup\n",
    "from urllib.request import urlopen\n",
    "from selenium import webdriver\n",
    "import re"
   ]
  },
  {
   "cell_type": "code",
   "execution_count": 121,
   "metadata": {},
   "outputs": [],
   "source": [
    "options = webdriver.ChromeOptions()\n",
    "options.add_argument('headless')\n",
    "options.add_argument('window-size=1920x1080')\n",
    "options.add_argument('disable-gpu')"
   ]
  },
  {
   "cell_type": "code",
   "execution_count": 131,
   "metadata": {},
   "outputs": [
    {
     "name": "stderr",
     "output_type": "stream",
     "text": [
      "/Users/Solomon/anaconda3/lib/python3.6/site-packages/ipykernel_launcher.py:5: DeprecationWarning: use options instead of chrome_options\n",
      "  \"\"\"\n"
     ]
    }
   ],
   "source": [
    "cau_list = []\n",
    "cau_url_list = []\n",
    "cau_date_list = []\n",
    "\n",
    "driver = webdriver.Chrome(\"/usr/local/bin/chromedriver\", chrome_options=options)\n",
    "driver.get(\"https://www.cau.ac.kr/cms/FR_CON/index.do?MENU_ID=100\")\n",
    "driver.implicitly_wait(3)\n",
    "\n",
    "#caunotice_page = driver.page_source\n",
    "#caunotice_soup = BeautifulSoup(caunotice_page,'lxml')\n",
    "\n",
    "cau_base_url = \"https://www.cau.ac.kr/cms/FR_CON/BoardView.do?\\\n",
    "MENU_ID=100&CONTENTS_NO=1&SITE_NO=2&P_TAB_NO=&TAB_NO=&BOARD_SEQ=4&BOARD_CATEGORY_NO=&BBS_SEQ=\"\n",
    "# BBS_SEQ=19642 (id=board_19642)\n",
    "\n",
    "title_list = driver.find_elements_by_class_name(\"txtL\")\n",
    "for item in range(len(title_list)):\n",
    "    cau_list.append(title_list[item].find_element_by_tag_name('a').text)\n",
    "\n",
    "url_list = driver.find_element_by_id(\"tbody\").find_elements_by_tag_name(\"li\")\n",
    "for item in url_list:\n",
    "    cau_url_list.append(cau_base_url + item.get_attribute(\"id\").replace(\"board_\",\"\"))\n",
    "    \n",
    "date_list = driver.find_elements_by_class_name(\"txtInfo\")\n",
    "for item in range(len(date_list)):    \n",
    "    cau_date_list.append(date_list[item].find_element_by_class_name(\"date\").text)\n",
    "\n",
    "driver.close()"
   ]
  },
  {
   "cell_type": "code",
   "execution_count": 182,
   "metadata": {},
   "outputs": [
    {
     "name": "stderr",
     "output_type": "stream",
     "text": [
      "/Users/Solomon/anaconda3/lib/python3.6/site-packages/ipykernel_launcher.py:5: DeprecationWarning: use options instead of chrome_options\n",
      "  \"\"\"\n"
     ]
    }
   ],
   "source": [
    "lib_list = []\n",
    "lib_url_list = []\n",
    "lib_date_list = []\n",
    "\n",
    "driver = webdriver.Chrome(\"/usr/local/bin/chromedriver\", chrome_options=options)\n",
    "driver.get(\"https://library.cau.ac.kr/#/bbs/notice?offset=0&max=20\")\n",
    "driver.implicitly_wait(3)\n",
    "\n",
    "#제목 크롤링 부분\n",
    "#title_list = driver.find_elements_by_class_name(\"ikc-item-title\")\n",
    "#for line in range(len(title_list)):\n",
    "#    lib_list.append(title_list[line].text)\n",
    "\n",
    "board_list = driver.find_elements_by_class_name(\"ikc-item\")\n",
    "#회색 상단 공지 부분으로 아래 공지 중에서 중요한 것들만 올려놓은듯. 즉, 겹치는 내용임.\n",
    "#for item in board_list[0].find_elements_by_tag_name(\"tr\"):\n",
    "#    print(item.find_elements_by_tag_name(\"td\")[3].find_elements_by_tag_name(\"span\")[1].text)\n",
    "\n",
    "try:\n",
    "    for item in board_list: # tbody 검색후, ikc-item 검색시, 가끔씩 IndexError: list index out of range 발생\n",
    "        lib_list.append(item.find_elements_by_tag_name(\"td\")[2].find_element_by_tag_name('a').text) # 대체\n",
    "        lib_date_list.append(item.find_elements_by_tag_name(\"td\")[3].find_elements_by_tag_name(\"span\")[1].text)\n",
    "except IndexError:\n",
    "    print(\"IndexError\")\n",
    "    pass\n",
    "\n",
    "lib_base_url = \"https://library.cau.ac.kr/#/bbs/notice/\"\n",
    "# 사이에 id 추가\n",
    "lib_sub_url = \"?offset=0&max=20\"\n",
    "\n",
    "# url id는 어떻게 가져올까..\n",
    "\n",
    "driver.close()"
   ]
  },
  {
   "cell_type": "code",
   "execution_count": 58,
   "metadata": {},
   "outputs": [],
   "source": [
    "# 노란색 공지 부분만 가져온다\n",
    "dorm_list = []\n",
    "dorm_url_list = []\n",
    "dorm_date_list = []\n",
    "\n",
    "dormnotice_url = \"https://dormitory.cau.ac.kr/bbs/bbs_list.php?bbsID=notice\"\n",
    "dormnotice_page = urlopen(dormnotice_url)\n",
    "dormnotice_soup = BeautifulSoup(dormnotice_page, \"lxml\")\n",
    "\n",
    "#print(dormnotice_soup.prettify())\n",
    "dormnotice_list = dormnotice_soup.find(id='content').find('div').find_all('tr',{'bgcolor':'#fffcdb'})\n",
    "if dormnotice_list == []:\n",
    "    print(\"No data\")\n",
    "else :\n",
    "    for item in dormnotice_list:\n",
    "        dorm_list.append(item.find('span',class_='bbsTitle').get_text())\n",
    "        dorm_url_list.append(item.find('a')['href'])\n",
    "        dorm_date_list.append(item.find_all('td',class_='t_c')[3].get_text())\n",
    "        \n",
    "#try-except 적용하기?"
   ]
  },
  {
   "cell_type": "code",
   "execution_count": 141,
   "metadata": {},
   "outputs": [],
   "source": [
    "ict_list = []\n",
    "ict_url_list = []\n",
    "ict_date_list = []\n",
    "\n",
    "ictnotice_url = \"http://ict.cau.ac.kr/20150610/sub05/sub05_01_list.php\"\n",
    "ictnotice_page = urlopen(ictnotice_url)\n",
    "ictnotice_soup = BeautifulSoup(ictnotice_page, \"lxml\")\n",
    "\n",
    "ict_base_url = \"http://ict.cau.ac.kr/20150610/sub05/sub05_01_list.php?cmd=view&cpage=1&idx=\"\n",
    "# 사이에 id 작성\n",
    "ict_sub_url = \"&search_gbn=1&search_keyword=\"\n",
    "\n",
    "ictnotice_list = ictnotice_soup.find('tbody').find_all('tr')\n",
    "if ictnotice_list == []:\n",
    "    print(\"No data\")\n",
    "else:\n",
    "    for item in ictnotice_list:\n",
    "        ict_list.append(item.find('td',class_='cont').find('a').get_text())\n",
    "        ict_url_list.append(ict_base_url + item.find('td',class_='cont').find('a')['href'][-7:-3] + ict_sub_url)\n",
    "        ict_date_list.append(item.find_all('td')[2].get_text())"
   ]
  },
  {
   "cell_type": "code",
   "execution_count": 118,
   "metadata": {},
   "outputs": [],
   "source": [
    "cse_list = []\n",
    "cse_url_list = []\n",
    "cse_date_list = []\n",
    "\n",
    "csenotice_url = \"http://cse.cau.ac.kr/20141201/sub05/sub0501.php\"\n",
    "csenotice_page = urlopen(csenotice_url)\n",
    "csenotice_soup = BeautifulSoup(csenotice_page, \"lxml\")\n",
    "\n",
    "csenotice_list = csenotice_soup.find('table',class_='nlist').find_all('tr')\n",
    "\n",
    "if csenotice_list == []:\n",
    "    print(\"No data\")\n",
    "else:\n",
    "    for item in csenotice_list:\n",
    "        cse_list.append(re.sub('[\\n\\t\\xa0]','',item.find('a').get_text())) # sub메소드 사용법 검토하기\n",
    "        cse_url_list.append(csenotice_url + item.find_all('td')[2].find('a')['href'])\n",
    "        cse_date_list.append(item.find_all('td')[4].get_text())"
   ]
  },
  {
   "cell_type": "code",
   "execution_count": 18,
   "metadata": {},
   "outputs": [
    {
     "name": "stdout",
     "output_type": "stream",
     "text": [
      "알림 받고자 하는 키워드를 입력해주세요! # 입관\n"
     ]
    },
    {
     "data": {
      "text/plain": [
       "['[동계방학 입관] 2018학년도 생활관 동계방학 4주-2차 입관절차 안내',\n",
       " '2019학년도 1학기 생활관 입관 신청 - 재학생/수시/재외국민',\n",
       " '2019학년도 1학기 서울캠퍼스 생활관(블루미르홀) 입관 신청 안내 - 수시/재외국민 전형',\n",
       " '2019학년도 1학기 서울캠퍼스 생활관 재학생 입관 신청 안내']"
      ]
     },
     "execution_count": 18,
     "metadata": {},
     "output_type": "execute_result"
    }
   ],
   "source": [
    "result = []\n",
    "keyword = input(\"알림 받고자 하는 키워드를 입력해주세요! # \")\n",
    "result = [string for string in dorm_list if keyword in string]\n",
    "result"
   ]
  },
  {
   "cell_type": "code",
   "execution_count": null,
   "metadata": {
    "collapsed": true
   },
   "outputs": [],
   "source": []
  }
 ],
 "metadata": {
  "kernelspec": {
   "display_name": "Python 3",
   "language": "python",
   "name": "python3"
  },
  "language_info": {
   "codemirror_mode": {
    "name": "ipython",
    "version": 3
   },
   "file_extension": ".py",
   "mimetype": "text/x-python",
   "name": "python",
   "nbconvert_exporter": "python",
   "pygments_lexer": "ipython3",
   "version": "3.6.8"
  }
 },
 "nbformat": 4,
 "nbformat_minor": 2
}

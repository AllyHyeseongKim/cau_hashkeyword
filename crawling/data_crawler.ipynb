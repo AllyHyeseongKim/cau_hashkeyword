{
 "cells": [
  {
   "cell_type": "code",
   "execution_count": 12,
   "metadata": {
    "collapsed": true
   },
   "outputs": [],
   "source": [
    "from bs4 import BeautifulSoup\n",
    "from urllib.request import urlopen\n",
    "from selenium import webdriver"
   ]
  },
  {
   "cell_type": "code",
   "execution_count": 13,
   "metadata": {
    "collapsed": true
   },
   "outputs": [],
   "source": [
    "options = webdriver.ChromeOptions()\n",
    "options.add_argument('headless')\n",
    "options.add_argument('window-size=1920x1080')\n",
    "options.add_argument('disable-gpu')"
   ]
  },
  {
   "cell_type": "code",
   "execution_count": 14,
   "metadata": {},
   "outputs": [
    {
     "name": "stderr",
     "output_type": "stream",
     "text": [
      "/Users/Solomon/anaconda3/lib/python3.6/site-packages/ipykernel_launcher.py:1: DeprecationWarning: use options instead of chrome_options\n",
      "  \"\"\"Entry point for launching an IPython kernel.\n"
     ]
    },
    {
     "name": "stdout",
     "output_type": "stream",
     "text": [
      "2019년도 상반기 성림교회 대학장학생 공개 선발 안내\n",
      "2019년도 (재)광주시민장학회 장학생 선발계획 안내\n",
      "한국고등교육재단 2019 장학생 선발 안내\n",
      "2019학년도 1학기 학자금대출 신청 안내\n",
      "2019학년도 1학기 서울캠퍼스 생활관 합격자 발표-학부생 / 수시 / 재외국민\n",
      "2019년 중앙대학교 산학협력 교육 및 창업 프로그램 개발을 위한 수요조사\n",
      "안성캠퍼스 정전, 단수, 난방중단 안내\n",
      "[중앙대학교 입학처] 편입학 필기고사 진행을 위한 일일근로학생 모집\n",
      "2018학년도 중앙대학교 직원 채용 서류전형 결과 발표\n",
      "[학습가치확산을 위한 개방형교실(웨비나)운영] 집에서 편하게 듣는 방학특강 오픈\n",
      "2018-1학기 강의평가 우수 전임교원 명단\n",
      "2017-2학기 강의평가 우수 전임교원 명단\n",
      "\"1인 크리에이터교육과정(온라인)\" 개강 안내\n",
      "2019년 상반기 제주특별자치도 학자금 대출이자 지원 사업 신청 안내\n",
      "2018-동계방학 서울캠퍼스 생활관 잔여석 충원 안내\n"
     ]
    }
   ],
   "source": [
    "driver = webdriver.Chrome(\"/usr/local/bin/chromedriver\", chrome_options=options)\n",
    "driver.get(\"https://www.cau.ac.kr/cms/FR_CON/index.do?MENU_ID=100\")\n",
    "driver.implicitly_wait(3)\n",
    "\n",
    "#caunotice_page = driver.page_source\n",
    "#caunotice_soup = BeautifulSoup(caunotice_page,'lxml')\n",
    "\n",
    "board_list = driver.find_elements_by_class_name(\"txtL\")\n",
    "for line in range(len(board_list)):\n",
    "    print(board_list[line].find_element_by_tag_name('a').text)\n",
    "\n",
    "driver.close()"
   ]
  },
  {
   "cell_type": "code",
   "execution_count": 15,
   "metadata": {},
   "outputs": [
    {
     "name": "stderr",
     "output_type": "stream",
     "text": [
      "/Users/Solomon/anaconda3/lib/python3.6/site-packages/ipykernel_launcher.py:1: DeprecationWarning: use options instead of chrome_options\n",
      "  \"\"\"Entry point for launching an IPython kernel.\n"
     ]
    },
    {
     "name": "stdout",
     "output_type": "stream",
     "text": [
      "동계방학기간 3B열람실 임시 운영 중단 안내\n",
      "2018-2학기 \"재학중 인문학 도서 40선 읽기\" 학점 부여 안내\n",
      "[2018학년도 동계방학] 학술정보원 이용안내\n",
      "[일반공지] 2018년 대한민국학술원 선정 우수학술도서 안내\n",
      "[CK-II 사업] 2018-2학기 재학중 인문학 도서 40선 읽기 EVENT 안내\n",
      "[일반공지] 중앙도서관 정전 및 단수 안내\n",
      "[시스템] 반납예정일 오류 안내 공지\n",
      "동계방학기간 3B열람실 임시 운영 중단 안내\n",
      "2018-2학기 \"재학중 인문학 도서 40선 읽기\" 참여독려 EVENT\n",
      "신정(2019년1월 1일) 임시 휴관 안내\n",
      "1월 정기 학술정보 활용교육 안내\n",
      "2018-2학기 \"재학중 인문학 도서 40선 읽기\" 학점 부여 안내\n",
      "2018-2학기 독서 커뮤니티 수상자 안내\n",
      "[2018학년도 동계방학] 학술정보원 이용안내\n",
      "DBpia 및 KRpia 일시 중지 안내\n",
      "2018 DBPIA 올해의 논문 이벤트 안내\n",
      "2018학년도 학술정보원 연말대상 시상\n",
      "[학술DB공지] Taylor & Francis 출판사 사이트 유지보수 관련 안내\n",
      "[일반공지] 12월 정기 학술정보 활용교육 안내\n",
      "[일반공지] 2018-2학기 기말고사 기간 도서관 이용안내\n",
      "[아메리카센터] 미대사관 초청 메이커스페이스 무료 강좌 - 아두이노/레이저커팅 마스터 클래스\n",
      "2018-2학기 독서커뮤니티 활동 안내\n",
      "[CK-II 사업] 2018학년도 제7회 밤샘독서 ‘서평’ EVENT 선정자 안내\n",
      "[학술DB공지] e-Article DB 일시 중지 안내\n",
      "[도서관 스탬프투어] 미션클리어 당첨자 안내\n"
     ]
    }
   ],
   "source": [
    "driver = webdriver.Chrome(\"/usr/local/bin/chromedriver\", chrome_options=options)\n",
    "driver.get(\"https://library.cau.ac.kr/#/bbs/notice?offset=0&max=20\")\n",
    "driver.implicitly_wait(3)\n",
    "\n",
    "#libnotice_url = \"\"\n",
    "#libnotice_page = urlopen(libnotice_url)\n",
    "#libnotice_soup = BeautifulSoup(libnotice_page, \"lxml\")\n",
    "\n",
    "board_list = driver.find_elements_by_class_name(\"ikc-item-title\")\n",
    "for line in range(len(board_list)):\n",
    "    print(board_list[line].text)\n",
    "\n",
    "driver.close()"
   ]
  },
  {
   "cell_type": "code",
   "execution_count": 16,
   "metadata": {},
   "outputs": [
    {
     "name": "stdout",
     "output_type": "stream",
     "text": [
      "2019학년도 1학기 서울캠퍼스 생활관 합격자 발표 - 학부생/수시/재외국민\n",
      "[긴급공지]생활관 정전 및 단수 일정 변경 안내\n",
      "2018-동계방학 서울캠퍼스 생활관 잔여석 충원 안내\n",
      "[동계방학 입관] 2018학년도 생활관 동계방학 4주-2차 입관절차 안내\n",
      "[동계방학 퇴관] 2018학년도 동계방학 4주-1차 블루미르홀 퇴관 안내/Winter vacation 4 weeks-1 Moving-out Guide\n",
      "2018학년도 동계방학 생활관 방과후 프로그램 안내/ After-School Program Information\n",
      "[동계방학 업무시간] 동계방학 생활관 운영실 업무시간 변경 안내\n",
      "2019학년도 1학기 생활관 선발 일정 안내\n",
      "2019학년도 1학기 생활관 입관 신청 - 재학생/수시/재외국민\n",
      "2019학년도 1학기 서울캠퍼스 생활관(블루미르홀) 입관 신청 안내 - 수시/재외국민 전형\n",
      "2019학년도 1학기 서울캠퍼스 생활관 재학생 입관 신청 안내\n",
      "블루미르홀 308관 식당 단가 인상 안내\n",
      "[동계방학] 동계방학 중 블루미르홀 308관 및 글로벌하우스(307관) 휴관 안내\n",
      "[출입통제] 외부인 및 비관생 출입 통제 안내\n",
      "[308관 스터디룸] 308관 스터디룸 자율운영 및 준수사항 안내\n",
      "[외박 신청] 생활관 외박신청 이용 방법 안내\n",
      "[생활관]호실 이름표 부착 안내\n",
      "[흡연] 흡연장소 청결 유지 안내/Keeping smoking place clean notice - 흡연 관생 반드시 필독.\n",
      "[생활관] 금연 안내 - 반드시 필독\n",
      "[309관]연간 정기점검 및 훈련 일정 안내\n",
      "[308관]연간 정기 점검 및 훈련 일정 안내\n",
      "[생활관] 호실 내 에어컨 냄새 제거 방법 안내\n",
      "[고장수리요청]시설물 고장 접수 요령\n",
      "[생활관] 와이파이 이용 시 주의사항 / How To Connect To Wifi [ 반드시 필독]\n",
      "[309관 난방 이용방법] 냉,난방기 이용 방법 안내\n",
      "[생활관] 택배 발송 시 주의사항 - 반드시 필독\n",
      "[309관] 309관 승강기 정기검사 안내\n",
      "[모범호실] 11월 모범호실 선정\n",
      "2018학년도 10월 모범호실 선정\n",
      "[난방]309관 블루미르홀 난방 공급 안내\n",
      "[막역지룸] 2018-2학기 막역지룸(莫逆之Room) 선발 공지/A list of the candidates of “Giving Compliments to Your Roommate”\n",
      "[긴급공지] 309관 7층 ~ 14층 온수 공급 중단 안내(남/여 공통)\n",
      "[냉.난방 계획]냉방 종료 및 난방 계획 일정 변경 안내/The Notice for the heating operation(정정)\n",
      "[막역지룸] 2018학년도 2학기 막역지룸 행사 안내\n",
      "[308관 블루미르홀]정기 방역소독 안내/Notice of Room Sanitation and Germ Prevention\n",
      "[소방훈련] 2018학년도 2학기 생활관 대피 및 소방 추가 훈련 신청/ Information on applying for additional fire evacuation drills\n"
     ]
    }
   ],
   "source": [
    "dorm_list = []\n",
    "\n",
    "dormnotice_url = \"https://dormitory.cau.ac.kr/bbs/bbs_list.php?bbsID=notice\"\n",
    "dormnotice_page = urlopen(dormnotice_url)\n",
    "dormnotice_soup = BeautifulSoup(dormnotice_page, \"lxml\")\n",
    "\n",
    "dormnotice_list = dormnotice_soup.find_all('span',class_='bbsTitle')\n",
    "if dormnotice_list == []:\n",
    "    print(\"No data\")\n",
    "else :\n",
    "    for item in dormnotice_list:\n",
    "        print(item.get_text())\n",
    "        dorm_list.append(item.get_text())\n",
    "#try-except 적용하기?"
   ]
  },
  {
   "cell_type": "code",
   "execution_count": 17,
   "metadata": {},
   "outputs": [
    {
     "name": "stdout",
     "output_type": "stream",
     "text": [
      "[휴먼ICT사업단] 특성화분야 장학금 지급 안내\n",
      "2019학년도 1학기 수강신청 테스트 안내\n",
      "서울캠퍼스 전체/부분 정전 및 단수 안내\n",
      "전력거래소 주관 『제12기 차세대전력인양성반』수강신청 안내\n",
      "2019년 2월 KPX교육원 전력산업 인력양성 교육 수강신청 안내 \n",
      "2019-1학기 재입학, 복학, 휴학 신청 안내\n",
      "학술제 경진대회 장학금 지급 시기 공지\n",
      " 학술지 「에너지경제연구」 논문 투고 안내\n",
      "동의대학교 지방자치연구소 [공공정책연구] 제35권 2호 원고모집안내 \n",
      "[병무청] 병역판정검사 일자 및 장소 본인선택 안내\n"
     ]
    }
   ],
   "source": [
    "ictnotice_url = \"http://ict.cau.ac.kr/20150610/sub05/sub05_01_list.php\"\n",
    "ictnotice_page = urlopen(ictnotice_url)\n",
    "ictnotice_soup = BeautifulSoup(ictnotice_page, \"lxml\")\n",
    "\n",
    "ictnotice_list = ictnotice_soup.find_all('td',class_='cont')\n",
    "if ictnotice_list == []:\n",
    "    print(\"No data\")\n",
    "else:\n",
    "    for item in ictnotice_list:\n",
    "        print(item.find('a').get_text())"
   ]
  },
  {
   "cell_type": "code",
   "execution_count": 35,
   "metadata": {},
   "outputs": [
    {
     "name": "stdout",
     "output_type": "stream",
     "text": [
      "\n",
      "\t\t\t2018학년도 2학기 PE프로그램 양식\t\t\t\t\t\t\t\t\n",
      "\n",
      "\t\t\t2019년 2월 졸업예정자 졸업예정신고자 제출 안내\t\t\t\t\t\t\t\t\n",
      "\n",
      "\t\t\t2019년 2월 공학인증 졸업예정자 종합시험 및 제출서류 안내\t\t\t\t\t\t\t\t\n",
      "\n",
      "\t\t\t컴퓨터공학부/컴퓨터공학전공 복수전공 이수학점 변경 안..\t\t\t\t\t\t\t\t\n",
      "\n",
      "\t\t\t2018학년도 1학기 연구실안전 법정교육 안내\t\t\t\t\t\t\t\t\n",
      "\n",
      "\t\t\t온라인 폭력예방교육 실시 안내(교육의무 이수)\t\t\t\t\t\t\t\t\n",
      "\n",
      "\t\t\t2019년도 청년TLO 육성사업 1차 모집 안내  \n",
      "\n",
      "\t\t\t[bhc] bhc-BSR 해바라기 봉사단 모집 안내  \n",
      "\n",
      "\t\t\t2019학년도 1학기 수강신청 테스트 안내\t\t\t\t\t\t\t\t\n",
      "\n",
      "\t\t\t2019년 2월 KPX교육원 전력산업 인력양성 교육 수강신청 안내\t\t\t\t\t\t\t\t\n"
     ]
    }
   ],
   "source": [
    "csenotice_url = \"http://cse.cau.ac.kr/20141201/sub05/sub0501.php\"\n",
    "csenotice_page = urlopen(csenotice_url)\n",
    "csenotice_soup = BeautifulSoup(csenotice_page, \"lxml\")\n",
    "\n",
    "csenotice_list = csenotice_soup.find('table',class_='nlist').find_all('tr')\n",
    "if csenotice_list == []:\n",
    "    print(\"No data\")\n",
    "else:\n",
    "    for item in csenotice_list:\n",
    "        print(item.find('a').get_text())"
   ]
  },
  {
   "cell_type": "code",
   "execution_count": 18,
   "metadata": {},
   "outputs": [
    {
     "name": "stdout",
     "output_type": "stream",
     "text": [
      "알림 받고자 하는 키워드를 입력해주세요! # 입관\n"
     ]
    },
    {
     "data": {
      "text/plain": [
       "['[동계방학 입관] 2018학년도 생활관 동계방학 4주-2차 입관절차 안내',\n",
       " '2019학년도 1학기 생활관 입관 신청 - 재학생/수시/재외국민',\n",
       " '2019학년도 1학기 서울캠퍼스 생활관(블루미르홀) 입관 신청 안내 - 수시/재외국민 전형',\n",
       " '2019학년도 1학기 서울캠퍼스 생활관 재학생 입관 신청 안내']"
      ]
     },
     "execution_count": 18,
     "metadata": {},
     "output_type": "execute_result"
    }
   ],
   "source": [
    "result = []\n",
    "keyword = input(\"알림 받고자 하는 키워드를 입력해주세요! # \")\n",
    "result = [string for string in dorm_list if keyword in string]\n",
    "result"
   ]
  },
  {
   "cell_type": "code",
   "execution_count": null,
   "metadata": {
    "collapsed": true
   },
   "outputs": [],
   "source": []
  }
 ],
 "metadata": {
  "kernelspec": {
   "display_name": "Python 3",
   "language": "python",
   "name": "python3"
  },
  "language_info": {
   "codemirror_mode": {
    "name": "ipython",
    "version": 3
   },
   "file_extension": ".py",
   "mimetype": "text/x-python",
   "name": "python",
   "nbconvert_exporter": "python",
   "pygments_lexer": "ipython3",
   "version": "3.6.8"
  }
 },
 "nbformat": 4,
 "nbformat_minor": 2
}

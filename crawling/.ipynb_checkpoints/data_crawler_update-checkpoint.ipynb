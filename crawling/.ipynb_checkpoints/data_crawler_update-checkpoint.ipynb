{
 "cells": [
  {
   "cell_type": "code",
   "execution_count": 1,
   "metadata": {},
   "outputs": [
    {
     "data": {
      "text/plain": [
       "<firebase_admin.App at 0x10fff7cc0>"
      ]
     },
     "execution_count": 1,
     "metadata": {},
     "output_type": "execute_result"
    }
   ],
   "source": [
    "import firebase_admin\n",
    "from firebase_admin import credentials\n",
    "from firebase_admin import db\n",
    "\n",
    "# Fetch the service account key JSON file contents\n",
    "cred = credentials.Certificate('/Users/Solomon/Desktop/cau-hashkeyword-serviceAccountKey.json')\n",
    "\n",
    "# Initialize the app with a service account, granting admin privileges\n",
    "firebase_admin.initialize_app(cred, {\n",
    "    'databaseURL': 'https://cau-hashkeyword.firebaseio.com'\n",
    "})"
   ]
  },
  {
   "cell_type": "code",
   "execution_count": 2,
   "metadata": {
    "collapsed": true
   },
   "outputs": [],
   "source": [
    "from bs4 import BeautifulSoup\n",
    "from urllib.request import urlopen\n",
    "from selenium import webdriver\n",
    "import re"
   ]
  },
  {
   "cell_type": "code",
   "execution_count": 3,
   "metadata": {
    "collapsed": true
   },
   "outputs": [],
   "source": [
    "options = webdriver.ChromeOptions()\n",
    "options.add_argument('headless')\n",
    "options.add_argument('window-size=1920x1080')\n",
    "options.add_argument('disable-gpu')"
   ]
  },
  {
   "cell_type": "code",
   "execution_count": 6,
   "metadata": {},
   "outputs": [
    {
     "name": "stderr",
     "output_type": "stream",
     "text": [
      "/Users/Solomon/anaconda3/lib/python3.6/site-packages/ipykernel_launcher.py:5: DeprecationWarning: use options instead of chrome_options\n",
      "  \"\"\"\n"
     ]
    },
    {
     "ename": "WebDriverException",
     "evalue": "Message: Can not connect to the Service /usr/local/bin/chromedriver\n",
     "output_type": "error",
     "traceback": [
      "\u001b[0;31m---------------------------------------------------------------------------\u001b[0m",
      "\u001b[0;31mWebDriverException\u001b[0m                        Traceback (most recent call last)",
      "\u001b[0;32m<ipython-input-6-d88835a426fe>\u001b[0m in \u001b[0;36m<module>\u001b[0;34m()\u001b[0m\n\u001b[1;32m      3\u001b[0m \u001b[0mcau_url_list\u001b[0m \u001b[0;34m=\u001b[0m \u001b[0;34m[\u001b[0m\u001b[0;34m]\u001b[0m\u001b[0;34m\u001b[0m\u001b[0;34m\u001b[0m\u001b[0m\n\u001b[1;32m      4\u001b[0m \u001b[0;34m\u001b[0m\u001b[0m\n\u001b[0;32m----> 5\u001b[0;31m \u001b[0mdriver\u001b[0m \u001b[0;34m=\u001b[0m \u001b[0mwebdriver\u001b[0m\u001b[0;34m.\u001b[0m\u001b[0mChrome\u001b[0m\u001b[0;34m(\u001b[0m\u001b[0;34m\"/usr/local/bin/chromedriver\"\u001b[0m\u001b[0;34m,\u001b[0m \u001b[0mchrome_options\u001b[0m\u001b[0;34m=\u001b[0m\u001b[0moptions\u001b[0m\u001b[0;34m)\u001b[0m\u001b[0;34m\u001b[0m\u001b[0;34m\u001b[0m\u001b[0m\n\u001b[0m\u001b[1;32m      6\u001b[0m \u001b[0mdriver\u001b[0m\u001b[0;34m.\u001b[0m\u001b[0mget\u001b[0m\u001b[0;34m(\u001b[0m\u001b[0;34m\"https://www.cau.ac.kr/cms/FR_CON/index.do?MENU_ID=100\"\u001b[0m\u001b[0;34m)\u001b[0m\u001b[0;34m\u001b[0m\u001b[0;34m\u001b[0m\u001b[0m\n\u001b[1;32m      7\u001b[0m \u001b[0mdriver\u001b[0m\u001b[0;34m.\u001b[0m\u001b[0mimplicitly_wait\u001b[0m\u001b[0;34m(\u001b[0m\u001b[0;36m3\u001b[0m\u001b[0;34m)\u001b[0m\u001b[0;34m\u001b[0m\u001b[0;34m\u001b[0m\u001b[0m\n",
      "\u001b[0;32m~/anaconda3/lib/python3.6/site-packages/selenium/webdriver/chrome/webdriver.py\u001b[0m in \u001b[0;36m__init__\u001b[0;34m(self, executable_path, port, options, service_args, desired_capabilities, service_log_path, chrome_options, keep_alive)\u001b[0m\n\u001b[1;32m     71\u001b[0m             \u001b[0mservice_args\u001b[0m\u001b[0;34m=\u001b[0m\u001b[0mservice_args\u001b[0m\u001b[0;34m,\u001b[0m\u001b[0;34m\u001b[0m\u001b[0;34m\u001b[0m\u001b[0m\n\u001b[1;32m     72\u001b[0m             log_path=service_log_path)\n\u001b[0;32m---> 73\u001b[0;31m         \u001b[0mself\u001b[0m\u001b[0;34m.\u001b[0m\u001b[0mservice\u001b[0m\u001b[0;34m.\u001b[0m\u001b[0mstart\u001b[0m\u001b[0;34m(\u001b[0m\u001b[0;34m)\u001b[0m\u001b[0;34m\u001b[0m\u001b[0;34m\u001b[0m\u001b[0m\n\u001b[0m\u001b[1;32m     74\u001b[0m \u001b[0;34m\u001b[0m\u001b[0m\n\u001b[1;32m     75\u001b[0m         \u001b[0;32mtry\u001b[0m\u001b[0;34m:\u001b[0m\u001b[0;34m\u001b[0m\u001b[0;34m\u001b[0m\u001b[0m\n",
      "\u001b[0;32m~/anaconda3/lib/python3.6/site-packages/selenium/webdriver/common/service.py\u001b[0m in \u001b[0;36mstart\u001b[0;34m(self)\u001b[0m\n\u001b[1;32m    102\u001b[0m             \u001b[0mtime\u001b[0m\u001b[0;34m.\u001b[0m\u001b[0msleep\u001b[0m\u001b[0;34m(\u001b[0m\u001b[0;36m1\u001b[0m\u001b[0;34m)\u001b[0m\u001b[0;34m\u001b[0m\u001b[0;34m\u001b[0m\u001b[0m\n\u001b[1;32m    103\u001b[0m             \u001b[0;32mif\u001b[0m \u001b[0mcount\u001b[0m \u001b[0;34m==\u001b[0m \u001b[0;36m30\u001b[0m\u001b[0;34m:\u001b[0m\u001b[0;34m\u001b[0m\u001b[0;34m\u001b[0m\u001b[0m\n\u001b[0;32m--> 104\u001b[0;31m                 \u001b[0;32mraise\u001b[0m \u001b[0mWebDriverException\u001b[0m\u001b[0;34m(\u001b[0m\u001b[0;34m\"Can not connect to the Service %s\"\u001b[0m \u001b[0;34m%\u001b[0m \u001b[0mself\u001b[0m\u001b[0;34m.\u001b[0m\u001b[0mpath\u001b[0m\u001b[0;34m)\u001b[0m\u001b[0;34m\u001b[0m\u001b[0;34m\u001b[0m\u001b[0m\n\u001b[0m\u001b[1;32m    105\u001b[0m \u001b[0;34m\u001b[0m\u001b[0m\n\u001b[1;32m    106\u001b[0m     \u001b[0;32mdef\u001b[0m \u001b[0massert_process_still_running\u001b[0m\u001b[0;34m(\u001b[0m\u001b[0mself\u001b[0m\u001b[0;34m)\u001b[0m\u001b[0;34m:\u001b[0m\u001b[0;34m\u001b[0m\u001b[0;34m\u001b[0m\u001b[0m\n",
      "\u001b[0;31mWebDriverException\u001b[0m: Message: Can not connect to the Service /usr/local/bin/chromedriver\n"
     ]
    }
   ],
   "source": [
    "cau_title_list = []\n",
    "cau_date_list = []\n",
    "cau_url_list = []\n",
    "\n",
    "driver = webdriver.Chrome(\"/usr/local/bin/chromedriver\", chrome_options=options)\n",
    "driver.get(\"https://www.cau.ac.kr/cms/FR_CON/index.do?MENU_ID=100\")\n",
    "driver.implicitly_wait(3)\n",
    "\n",
    "#caunotice_page = driver.page_source\n",
    "#caunotice_soup = BeautifulSoup(caunotice_page,'lxml')\n",
    "\n",
    "cau_base_url = \"https://www.cau.ac.kr/cms/FR_CON/BoardView.do?\\\n",
    "MENU_ID=100&CONTENTS_NO=1&SITE_NO=2&P_TAB_NO=&TAB_NO=&BOARD_SEQ=4&BOARD_CATEGORY_NO=&BBS_SEQ=\"\n",
    "# BBS_SEQ=19642 (id=board_19642)\n",
    "\n",
    "title_list = driver.find_elements_by_class_name(\"txtL\")\n",
    "for item in range(len(title_list)):\n",
    "    cau_title_list.append(title_list[item].find_element_by_tag_name('a').text)\n",
    "\n",
    "url_list = driver.find_element_by_id(\"tbody\").find_elements_by_tag_name(\"li\")\n",
    "for item in url_list:\n",
    "    cau_url_list.append(cau_base_url + item.get_attribute(\"id\").replace(\"board_\",\"\"))\n",
    "    \n",
    "date_list = driver.find_elements_by_class_name(\"txtInfo\")\n",
    "for item in range(len(date_list)):    \n",
    "    cau_date_list.append(date_list[item].find_element_by_class_name(\"date\").text)\n",
    "\n",
    "driver.close()"
   ]
  },
  {
   "cell_type": "code",
   "execution_count": 7,
   "metadata": {},
   "outputs": [
    {
     "name": "stderr",
     "output_type": "stream",
     "text": [
      "/Users/Solomon/anaconda3/lib/python3.6/site-packages/ipykernel_launcher.py:5: DeprecationWarning: use options instead of chrome_options\n",
      "  \"\"\"\n"
     ]
    },
    {
     "ename": "WebDriverException",
     "evalue": "Message: Can not connect to the Service /usr/local/bin/chromedriver\n",
     "output_type": "error",
     "traceback": [
      "\u001b[0;31m---------------------------------------------------------------------------\u001b[0m",
      "\u001b[0;31mWebDriverException\u001b[0m                        Traceback (most recent call last)",
      "\u001b[0;32m<ipython-input-7-614f3f5b4749>\u001b[0m in \u001b[0;36m<module>\u001b[0;34m()\u001b[0m\n\u001b[1;32m      3\u001b[0m \u001b[0mlib_url_list\u001b[0m \u001b[0;34m=\u001b[0m \u001b[0;34m[\u001b[0m\u001b[0;34m]\u001b[0m\u001b[0;34m\u001b[0m\u001b[0;34m\u001b[0m\u001b[0m\n\u001b[1;32m      4\u001b[0m \u001b[0;34m\u001b[0m\u001b[0m\n\u001b[0;32m----> 5\u001b[0;31m \u001b[0mdriver\u001b[0m \u001b[0;34m=\u001b[0m \u001b[0mwebdriver\u001b[0m\u001b[0;34m.\u001b[0m\u001b[0mChrome\u001b[0m\u001b[0;34m(\u001b[0m\u001b[0;34m\"/usr/local/bin/chromedriver\"\u001b[0m\u001b[0;34m,\u001b[0m \u001b[0mchrome_options\u001b[0m\u001b[0;34m=\u001b[0m\u001b[0moptions\u001b[0m\u001b[0;34m)\u001b[0m\u001b[0;34m\u001b[0m\u001b[0;34m\u001b[0m\u001b[0m\n\u001b[0m\u001b[1;32m      6\u001b[0m \u001b[0mdriver\u001b[0m\u001b[0;34m.\u001b[0m\u001b[0mget\u001b[0m\u001b[0;34m(\u001b[0m\u001b[0;34m\"https://library.cau.ac.kr/#/bbs/notice?offset=0&max=20\"\u001b[0m\u001b[0;34m)\u001b[0m\u001b[0;34m\u001b[0m\u001b[0;34m\u001b[0m\u001b[0m\n\u001b[1;32m      7\u001b[0m \u001b[0mdriver\u001b[0m\u001b[0;34m.\u001b[0m\u001b[0mimplicitly_wait\u001b[0m\u001b[0;34m(\u001b[0m\u001b[0;36m3\u001b[0m\u001b[0;34m)\u001b[0m\u001b[0;34m\u001b[0m\u001b[0;34m\u001b[0m\u001b[0m\n",
      "\u001b[0;32m~/anaconda3/lib/python3.6/site-packages/selenium/webdriver/chrome/webdriver.py\u001b[0m in \u001b[0;36m__init__\u001b[0;34m(self, executable_path, port, options, service_args, desired_capabilities, service_log_path, chrome_options, keep_alive)\u001b[0m\n\u001b[1;32m     71\u001b[0m             \u001b[0mservice_args\u001b[0m\u001b[0;34m=\u001b[0m\u001b[0mservice_args\u001b[0m\u001b[0;34m,\u001b[0m\u001b[0;34m\u001b[0m\u001b[0;34m\u001b[0m\u001b[0m\n\u001b[1;32m     72\u001b[0m             log_path=service_log_path)\n\u001b[0;32m---> 73\u001b[0;31m         \u001b[0mself\u001b[0m\u001b[0;34m.\u001b[0m\u001b[0mservice\u001b[0m\u001b[0;34m.\u001b[0m\u001b[0mstart\u001b[0m\u001b[0;34m(\u001b[0m\u001b[0;34m)\u001b[0m\u001b[0;34m\u001b[0m\u001b[0;34m\u001b[0m\u001b[0m\n\u001b[0m\u001b[1;32m     74\u001b[0m \u001b[0;34m\u001b[0m\u001b[0m\n\u001b[1;32m     75\u001b[0m         \u001b[0;32mtry\u001b[0m\u001b[0;34m:\u001b[0m\u001b[0;34m\u001b[0m\u001b[0;34m\u001b[0m\u001b[0m\n",
      "\u001b[0;32m~/anaconda3/lib/python3.6/site-packages/selenium/webdriver/common/service.py\u001b[0m in \u001b[0;36mstart\u001b[0;34m(self)\u001b[0m\n\u001b[1;32m    102\u001b[0m             \u001b[0mtime\u001b[0m\u001b[0;34m.\u001b[0m\u001b[0msleep\u001b[0m\u001b[0;34m(\u001b[0m\u001b[0;36m1\u001b[0m\u001b[0;34m)\u001b[0m\u001b[0;34m\u001b[0m\u001b[0;34m\u001b[0m\u001b[0m\n\u001b[1;32m    103\u001b[0m             \u001b[0;32mif\u001b[0m \u001b[0mcount\u001b[0m \u001b[0;34m==\u001b[0m \u001b[0;36m30\u001b[0m\u001b[0;34m:\u001b[0m\u001b[0;34m\u001b[0m\u001b[0;34m\u001b[0m\u001b[0m\n\u001b[0;32m--> 104\u001b[0;31m                 \u001b[0;32mraise\u001b[0m \u001b[0mWebDriverException\u001b[0m\u001b[0;34m(\u001b[0m\u001b[0;34m\"Can not connect to the Service %s\"\u001b[0m \u001b[0;34m%\u001b[0m \u001b[0mself\u001b[0m\u001b[0;34m.\u001b[0m\u001b[0mpath\u001b[0m\u001b[0;34m)\u001b[0m\u001b[0;34m\u001b[0m\u001b[0;34m\u001b[0m\u001b[0m\n\u001b[0m\u001b[1;32m    105\u001b[0m \u001b[0;34m\u001b[0m\u001b[0m\n\u001b[1;32m    106\u001b[0m     \u001b[0;32mdef\u001b[0m \u001b[0massert_process_still_running\u001b[0m\u001b[0;34m(\u001b[0m\u001b[0mself\u001b[0m\u001b[0;34m)\u001b[0m\u001b[0;34m:\u001b[0m\u001b[0;34m\u001b[0m\u001b[0;34m\u001b[0m\u001b[0m\n",
      "\u001b[0;31mWebDriverException\u001b[0m: Message: Can not connect to the Service /usr/local/bin/chromedriver\n"
     ]
    }
   ],
   "source": [
    "lib_title_list = []\n",
    "lib_date_list = []\n",
    "lib_url_list = []\n",
    "\n",
    "driver = webdriver.Chrome(\"/usr/local/bin/chromedriver\", chrome_options=options)\n",
    "driver.get(\"https://library.cau.ac.kr/#/bbs/notice?offset=0&max=20\")\n",
    "driver.implicitly_wait(3)\n",
    "\n",
    "#제목 크롤링 부분\n",
    "#title_list = driver.find_elements_by_class_name(\"ikc-item-title\")\n",
    "#for line in range(len(title_list)):\n",
    "#    lib_list.append(title_list[line].text)\n",
    "\n",
    "board_list = driver.find_elements_by_class_name(\"ikc-item\")\n",
    "#회색 상단 공지 부분으로 아래 공지 중에서 중요한 것들만 올려놓은듯. 즉, 겹치는 내용임.\n",
    "#for item in board_list[0].find_elements_by_tag_name(\"tr\"):\n",
    "#    print(item.find_elements_by_tag_name(\"td\")[3].find_elements_by_tag_name(\"span\")[1].text)\n",
    "\n",
    "try:\n",
    "    for item in board_list: # tbody 검색후, ikc-item 검색시, 가끔씩 IndexError: list index out of range 발생\n",
    "        lib_title_list.append(item.find_elements_by_tag_name(\"td\")[2].find_element_by_tag_name('a').text) # 대체\n",
    "        lib_date_list.append(item.find_elements_by_tag_name(\"td\")[3].find_elements_by_tag_name(\"span\")[1].text)\n",
    "except IndexError:\n",
    "    print(\"IndexError\")\n",
    "    pass\n",
    "\n",
    "lib_base_url = \"https://library.cau.ac.kr/#/bbs/notice/\"\n",
    "# 사이에 id 추가\n",
    "lib_sub_url = \"?offset=0&max=20\"\n",
    "\n",
    "# url id는 어떻게 가져올까..\n",
    "\n",
    "driver.close()"
   ]
  },
  {
   "cell_type": "code",
   "execution_count": 18,
   "metadata": {},
   "outputs": [
    {
     "name": "stdout",
     "output_type": "stream",
     "text": [
      "https://dormitory.cau.ac.kr/bbs/bbs_view.php?pNum=2670&bbsID=notice https://dormitory.cau.ac.kr/bbs/bbs_view.php?pNum=2670&bbsID=notice\n"
     ]
    }
   ],
   "source": [
    "# 노란색 공지 부분만 가져온다\n",
    "'''ref = db.reference('server/saving-data/crawling/webpages/dorm/title/0')\n",
    "dorm_recent_title = ref.get()\n",
    "ref = db.reference('server/saving-data/crawling/webpages/dorm/date/0')\n",
    "dorm_recent_date = ref.get()'''\n",
    "ref = db.reference('server/saving-data/crawling/webpages/dorm/url/0')\n",
    "dorm_recent_url = ref.get()\n",
    "\n",
    "dormnotice_url = \"https://dormitory.cau.ac.kr/bbs/bbs_list.php?bbsID=notice\"\n",
    "dormnotice_page = urlopen(dormnotice_url)\n",
    "dormnotice_soup = BeautifulSoup(dormnotice_page, \"lxml\")\n",
    "\n",
    "#print(dormnotice_soup.prettify())\n",
    "dormnotice_list = dormnotice_soup.find(id='content').find('div').find_all('tr',{'bgcolor':'#fffcdb'})\n",
    "if dormnotice_list == []:\n",
    "    print(\"No data\")\n",
    "else :\n",
    "    # url로 비교하기.\n",
    "    for item in dormnotice_list:\n",
    "        print(dorm_recent_url, item.find('a')['href'])\n",
    "        if dorm_recent_url == item.find('a')['href']: break\n",
    "        ref = db.reference('server/saving-data/crawling/webpages/dorm')\n",
    "        title_ref = ref.child('title')\n",
    "        date_ref = ref.child('date')\n",
    "        url_ref = ref.child('url')\n",
    "        # 데이터 update시 append? or insert(0,data)?\n",
    "        # 만약 append라면, #fecc933 commit에서 data set할 때, 순서 역방향으로 바꿔주기. -> 그러면, title/? 마지막 자리를 어떻게 아는가\n",
    "        title_ref.update(item.find('span',class_='bbsTitle').get_text())\n",
    "        date_ref.update(\"20\" + item.find_all('td',class_='t_c')[3].get_text())\n",
    "        url_ref.update(item.find('a')['href'])\n",
    "        \n",
    "#try-except 적용하기?"
   ]
  },
  {
   "cell_type": "code",
   "execution_count": 21,
   "metadata": {
    "collapsed": true
   },
   "outputs": [],
   "source": [
    "ref = db.reference('server/saving-data/crawling/webpages/ict/url/0')\n",
    "ict_recent_url = ref.get()\n",
    "\n",
    "ictnotice_url = \"http://ict.cau.ac.kr/20150610/sub05/sub05_01_list.php\"\n",
    "ictnotice_page = urlopen(ictnotice_url)\n",
    "ictnotice_soup = BeautifulSoup(ictnotice_page, \"lxml\")\n",
    "\n",
    "ict_base_url = \"http://ict.cau.ac.kr/20150610/sub05/sub05_01_list.php?cmd=view&cpage=1&idx=\"\n",
    "# 사이에 id 작성\n",
    "ict_sub_url = \"&search_gbn=1&search_keyword=\"\n",
    "\n",
    "ictnotice_list = ictnotice_soup.find('tbody').find_all('tr')\n",
    "if ictnotice_list == []:\n",
    "    print(\"No data\")\n",
    "else:\n",
    "    for item in ictnotice_list:\n",
    "        if ict_recent_url == ict_base_url + item.find('td',class_='cont').find('a')['href'][-7:-3] + ict_sub_url: break\n",
    "        ref = db.reference('server/saving-data/crawling/webpages/ict')\n",
    "        title_ref = ref.child('title')\n",
    "        date_ref = ref.child('date')\n",
    "        url_ref = ref.child('url')\n",
    "        title_ref.update(item.find('td',class_='cont').find('a').get_text())\n",
    "        date_ref.update(item.find_all('td')[2].get_text())\n",
    "        url_ref.update(ict_base_url + item.find('td',class_='cont').find('a')['href'][-7:-3] + ict_sub_url)"
   ]
  },
  {
   "cell_type": "code",
   "execution_count": 24,
   "metadata": {
    "collapsed": true
   },
   "outputs": [],
   "source": [
    "ref = db.reference('server/saving-data/crawling/webpages/cse/url/0')\n",
    "cse_recent_url = ref.get()\n",
    "\n",
    "csenotice_url = \"http://cse.cau.ac.kr/20141201/sub05/sub0501.php\"\n",
    "csenotice_page = urlopen(csenotice_url)\n",
    "csenotice_soup = BeautifulSoup(csenotice_page, \"lxml\")\n",
    "\n",
    "csenotice_list = csenotice_soup.find('table',class_='nlist').find_all('tr')\n",
    "\n",
    "if csenotice_list == []:\n",
    "    print(\"No data\")\n",
    "else:\n",
    "    for item in csenotice_list:\n",
    "        if cse_recent_url == csenotice_url + item.find_all('td')[2].find('a')['href']: break\n",
    "        ref = db.reference('server/saving-data/crawling/webpages/cse')\n",
    "        title_ref = ref.child('title')\n",
    "        date_ref = ref.child('date')\n",
    "        url_ref = ref.child('url')\n",
    "        title_ref.update(re.sub('[\\n\\t\\xa0]','',item.find('a').get_text()))\n",
    "        date_ref.update(item.find_all('td')[4].get_text())\n",
    "        url_ref.update(csenotice_url + item.find_all('td')[2].find('a')['href'])\n",
    "        \n",
    "# 공지표시 되어있는 게시글 제목도 수집?"
   ]
  }
 ],
 "metadata": {
  "kernelspec": {
   "display_name": "Python 3",
   "language": "python",
   "name": "python3"
  },
  "language_info": {
   "codemirror_mode": {
    "name": "ipython",
    "version": 3
   },
   "file_extension": ".py",
   "mimetype": "text/x-python",
   "name": "python",
   "nbconvert_exporter": "python",
   "pygments_lexer": "ipython3",
   "version": "3.6.8"
  }
 },
 "nbformat": 4,
 "nbformat_minor": 2
}
